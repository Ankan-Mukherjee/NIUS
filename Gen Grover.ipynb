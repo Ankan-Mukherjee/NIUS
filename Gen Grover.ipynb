{
 "cells": [
  {
   "cell_type": "code",
   "execution_count": 3,
   "id": "54aac590",
   "metadata": {},
   "outputs": [],
   "source": [
    "import math\n",
    "import qiskit\n",
    "import matplotlib as plt\n",
    "from matplotlib import *\n",
    "from qiskit import *\n",
    "from qiskit.visualization import plot_histogram\n",
    "import numpy as np\n",
    "from scipy.stats import unitary_group"
   ]
  },
  {
   "cell_type": "code",
   "execution_count": 4,
   "id": "00c1b607",
   "metadata": {},
   "outputs": [],
   "source": [
    "pi=math.pi"
   ]
  },
  {
   "cell_type": "markdown",
   "id": "c9344e0c",
   "metadata": {},
   "source": [
    "# 1. HASHING"
   ]
  },
  {
   "cell_type": "markdown",
   "id": "2848a3c9",
   "metadata": {},
   "source": [
    "## 1.1. SHIFT REGISTER"
   ]
  },
  {
   "cell_type": "code",
   "execution_count": 5,
   "id": "d0530fe0",
   "metadata": {},
   "outputs": [],
   "source": [
    "def lfsr(nqubits):\n",
    "    qc = QuantumCircuit(nqubits)\n",
    "    for qubit in range(1,nqubits):\n",
    "        qc.swap(qubit-1,qubit)\n",
    "    qc.cx(nqubits-1,0)\n",
    "    lfsr=qc.to_gate()\n",
    "    lfsr.name = \"LFSR\"\n",
    "    return lfsr"
   ]
  },
  {
   "cell_type": "code",
   "execution_count": 20,
   "id": "4d1f84da",
   "metadata": {},
   "outputs": [
    {
     "data": {
      "image/png": "[encoded data removed]",
      "text/plain": [
       "<Figure size 504x360 with 1 Axes>"
      ]
     },
     "execution_count": 20,
     "metadata": {},
     "output_type": "execute_result"
    }
   ],
   "source": [
    "n=3\n",
    "qc = QuantumCircuit(n)\n",
    "for i in range(n):\n",
    "    qc.h(i)\n",
    "qc.append(lfsr(n),[x for x in range(n)])\n",
    "qc.measure_all()\n",
    "qc.draw()\n",
    "\n",
    "plot_histogram(simulate(qc))"
   ]
  },
  {
   "cell_type": "markdown",
   "id": "c985d4a5",
   "metadata": {},
   "source": [
    "# 2. GENERALISED GROVER"
   ]
  },
  {
   "cell_type": "code",
   "execution_count": 11,
   "id": "f3936c80",
   "metadata": {},
   "outputs": [],
   "source": [
    "def initialize_s(qc, qubits):\n",
    "    for q in qubits:\n",
    "        qc.rx(pi/2,q)\n",
    "    return qc"
   ]
  },
  {
   "cell_type": "code",
   "execution_count": 4,
   "id": "16964437",
   "metadata": {},
   "outputs": [],
   "source": [
    "def diffuser(nqubits):\n",
    "    qc = QuantumCircuit(nqubits)\n",
    "    for qubit in range(nqubits):\n",
    "        qc.h(qubit)\n",
    "    for qubit in range(nqubits):\n",
    "        qc.x(qubit)\n",
    "    qc.h(nqubits-1)\n",
    "    qc.mct(list(range(nqubits-1)), nqubits-1)\n",
    "    qc.h(nqubits-1)\n",
    "    for qubit in range(nqubits):\n",
    "        qc.x(qubit)\n",
    "    for qubit in range(nqubits):\n",
    "        qc.h(qubit)\n",
    "    U_s = qc.to_gate()\n",
    "    U_s.name = \"U$_s$\"\n",
    "    return U_s"
   ]
  },
  {
   "cell_type": "code",
   "execution_count": 5,
   "id": "939f5e89",
   "metadata": {},
   "outputs": [],
   "source": [
    "def mirror(nqubits):\n",
    "    qc = QuantumCircuit(nqubits)\n",
    "    qc.h(nqubits-1)\n",
    "    qc.mct(list(range(nqubits-1)), nqubits-1)\n",
    "    qc.h(nqubits-1)\n",
    "    M_0 = qc.to_gate()\n",
    "    M_0.name = \"M$_0$\"\n",
    "    return M_0"
   ]
  },
  {
   "cell_type": "code",
   "execution_count": 6,
   "id": "0a1d0aba",
   "metadata": {},
   "outputs": [],
   "source": [
    "def gen_grover(nqubits):\n",
    "    qc = QuantumCircuit(nqubits)\n",
    "    for qubit in range(nqubits):\n",
    "        qc.rx(pi/2,qubit)\n",
    "    qc.append(mirror(nqubits),[x for x in range(nqubits)])\n",
    "    for qubit in range(nqubits):\n",
    "        qc.rx(-pi/2,qubit)\n",
    "    G = qc.to_gate()\n",
    "    G.name = \"G\"\n",
    "    return G"
   ]
  },
  {
   "cell_type": "code",
   "execution_count": 7,
   "id": "5e39904b",
   "metadata": {},
   "outputs": [],
   "source": [
    "def oracle(n):\n",
    "    qc = QuantumCircuit(n)\n",
    "    qc.cz(0, 2)\n",
    "    qc.cz(1, 2)\n",
    "    oracle_exn = qc.to_gate()\n",
    "    oracle_exn.name = \"U$_\\omega$\"\n",
    "    return oracle_exn"
   ]
  },
  {
   "cell_type": "code",
   "execution_count": 8,
   "id": "f13215ad",
   "metadata": {},
   "outputs": [],
   "source": [
    "def grover_circuit(n):\n",
    "    grover_circuit = QuantumCircuit(n)\n",
    "    grover_circuit = initialize_s(grover_circuit, [x for x in range(n)])\n",
    "    grover_circuit.append(oracle(n), [x for x in range(n)])\n",
    "    grover_circuit.append(gen_grover(n), [x for x in range(n)])\n",
    "    grover_circuit.measure_all()\n",
    "    return grover_circuit"
   ]
  },
  {
   "cell_type": "code",
   "execution_count": 9,
   "id": "f82ab90c",
   "metadata": {},
   "outputs": [],
   "source": [
    "def simulate(grover_circuit):\n",
    "    aer_sim = Aer.get_backend('aer_simulator')\n",
    "    transpiled_grover_circuit = transpile(grover_circuit, aer_sim)\n",
    "    qobj = assemble(transpiled_grover_circuit)\n",
    "    results = aer_sim.run(qobj).result()\n",
    "    counts = results.get_counts()\n",
    "    return counts"
   ]
  },
  {
   "cell_type": "code",
   "execution_count": 10,
   "id": "5ee8080b",
   "metadata": {},
   "outputs": [
    {
     "data": {
      "text/plain": [
       "array([[ 1.-0.j,  0.+0.j,  0.+0.j,  0.+0.j,  0.+0.j,  0.+0.j,  0.+0.j,\n",
       "         0.+0.j],\n",
       "       [ 0.+0.j,  1.-0.j,  0.+0.j,  0.+0.j,  0.+0.j,  0.+0.j,  0.+0.j,\n",
       "         0.+0.j],\n",
       "       [ 0.+0.j,  0.+0.j,  1.-0.j,  0.+0.j,  0.+0.j,  0.+0.j,  0.+0.j,\n",
       "         0.+0.j],\n",
       "       [ 0.+0.j,  0.+0.j,  0.+0.j,  1.-0.j,  0.+0.j,  0.+0.j,  0.+0.j,\n",
       "        -0.-0.j],\n",
       "       [ 0.+0.j,  0.+0.j,  0.+0.j,  0.+0.j,  1.-0.j,  0.+0.j,  0.+0.j,\n",
       "         0.+0.j],\n",
       "       [ 0.+0.j,  0.+0.j,  0.+0.j,  0.+0.j,  0.+0.j,  1.-0.j,  0.+0.j,\n",
       "         0.+0.j],\n",
       "       [ 0.+0.j,  0.+0.j,  0.+0.j,  0.+0.j,  0.+0.j,  0.+0.j,  1.-0.j,\n",
       "         0.+0.j],\n",
       "       [ 0.+0.j,  0.+0.j,  0.+0.j,  0.+0.j,  0.+0.j,  0.+0.j,  0.+0.j,\n",
       "        -1.+0.j]])"
      ]
     },
     "execution_count": 10,
     "metadata": {},
     "output_type": "execute_result"
    }
   ],
   "source": [
    "qc = QuantumCircuit(3)\n",
    "qc.append(mirror(3),[x for x in range(3)])\n",
    "backend = Aer.get_backend('unitary_simulator')\n",
    "job = backend.run(transpile(qc, backend))\n",
    "job.result().get_unitary(qc, decimals=3)"
   ]
  },
  {
   "cell_type": "code",
   "execution_count": 11,
   "id": "840bbfa1",
   "metadata": {},
   "outputs": [
    {
     "data": {
      "image/png": "[encoded data removed]",
      "text/plain": [
       "<Figure size 538.279x264.88 with 1 Axes>"
      ]
     },
     "execution_count": 11,
     "metadata": {},
     "output_type": "execute_result"
    }
   ],
   "source": [
    "grover_circuit(3).draw('mpl')"
   ]
  },
  {
   "cell_type": "code",
   "execution_count": 12,
   "id": "d15cc681",
   "metadata": {},
   "outputs": [
    {
     "data": {
      "image/png": "[encoded data removed]",
      "text/plain": [
       "<Figure size 504x360 with 1 Axes>"
      ]
     },
     "execution_count": 12,
     "metadata": {},
     "output_type": "execute_result"
    }
   ],
   "source": [
    "plot_histogram(simulate(grover_circuit(3)))"
   ]
  },
  {
   "cell_type": "code",
   "execution_count": null,
   "id": "5d673b6f",
   "metadata": {},
   "outputs": [],
   "source": []
  }
 ],
 "metadata": {
  "kernelspec": {
   "display_name": "Python 3",
   "language": "python",
   "name": "python3"
  },
  "language_info": {
   "codemirror_mode": {
    "name": "ipython",
    "version": 3
   },
   "file_extension": ".py",
   "mimetype": "text/x-python",
   "name": "python",
   "nbconvert_exporter": "python",
   "pygments_lexer": "ipython3",
   "version": "3.9.5"
  }
 },
 "nbformat": 4,
 "nbformat_minor": 5
}
