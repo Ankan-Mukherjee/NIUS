{
 "cells": [
  {
   "cell_type": "markdown",
   "id": "b21c1d4f",
   "metadata": {},
   "source": [
    "# SHA 256_Grover"
   ]
  },
  {
   "cell_type": "markdown",
   "id": "88d4cd20",
   "metadata": {},
   "source": [
    "## 1. SHA 256"
   ]
  },
  {
   "cell_type": "code",
   "execution_count": 1,
   "id": "c0c80fd3",
   "metadata": {},
   "outputs": [],
   "source": [
    "import math\n",
    "import qiskit\n",
    "import matplotlib as plt\n",
    "from matplotlib import *\n",
    "from qiskit import *\n",
    "from qiskit.visualization import plot_histogram\n",
    "import numpy as np"
   ]
  },
  {
   "cell_type": "code",
   "execution_count": 2,
   "id": "5f507a5f",
   "metadata": {},
   "outputs": [],
   "source": [
    "PRIMES=[2, 3, 5, 7, 11, 13, 17, 19, 23, 29, 31, 37, 41, 43, 47, 53, 59, 61, 67, 71, 73, 79, 83, 89, 97, 101, 103, 107, 109, 113, 127, 131, 137, 139, 149, 151, 157, 163, 167, 173, 179, 181, 191, 193, 197, 199, 211, 223, 227, 229, 233, 239, 241, 251, 257, 263, 269, 271,277,281,283,293,307,311]"
   ]
  },
  {
   "cell_type": "code",
   "execution_count": 3,
   "id": "35fda924",
   "metadata": {},
   "outputs": [],
   "source": [
    "def SHR_int(x,n):\n",
    "    return x>>n"
   ]
  },
  {
   "cell_type": "code",
   "execution_count": 4,
   "id": "49854d50",
   "metadata": {},
   "outputs": [],
   "source": [
    "def SHR(s,n):\n",
    "    x=int(s,2)\n",
    "    return str(bin(x>>n))[2:].zfill(32)"
   ]
  },
  {
   "cell_type": "code",
   "execution_count": 5,
   "id": "96b2b2ef",
   "metadata": {},
   "outputs": [],
   "source": [
    "def ROTR_int(x,n):\n",
    "    return (x>>n)|(x<<(32-n))&0xFFFFFFFF"
   ]
  },
  {
   "cell_type": "code",
   "execution_count": 6,
   "id": "5bb56c7a",
   "metadata": {},
   "outputs": [],
   "source": [
    "def ROTR(s,n):\n",
    "    x=int(s,2)\n",
    "    return str(bin((x>>n)|(x<<(32-n))&0xFFFFFFFF))[2:].zfill(32)"
   ]
  },
  {
   "cell_type": "code",
   "execution_count": 7,
   "id": "28862fe9",
   "metadata": {},
   "outputs": [],
   "source": [
    "def SIG0(x):\n",
    "    return ROTR_int(x,2)^ROTR_int(x,13)^ROTR_int(x,22)\n",
    "def SIG1(x):\n",
    "    return ROTR_int(x,6)^ROTR_int(x,11)^ROTR_int(x,25)\n",
    "    #return x\n",
    "def sig0(s):\n",
    "    x=int(s,2)\n",
    "    return str(bin(ROTR_int(x,7)^ROTR_int(x,18)^SHR_int(x,3)))[2:].zfill(32)\n",
    "def sig1(s):\n",
    "    x=int(s,2)\n",
    "    return str(bin(ROTR_int(x,17)^ROTR_int(x,19)^SHR_int(x,10)))[2:].zfill(32)\n",
    "    #return x"
   ]
  },
  {
   "cell_type": "code",
   "execution_count": 8,
   "id": "a4aa195e",
   "metadata": {},
   "outputs": [],
   "source": [
    "def che(x,y,z):\n",
    "    return (x&y)|(~x&z)\n",
    "def maj(x,y,z):\n",
    "    return (x&y)^(y&z)^(z&x)"
   ]
  },
  {
   "cell_type": "code",
   "execution_count": 9,
   "id": "32157135",
   "metadata": {},
   "outputs": [],
   "source": [
    "K=[]\n",
    "H=[]\n",
    "for i in range(64):\n",
    "    K.append(int(math.modf((PRIMES[i])**(1/3))[0]*(2**32)))\n",
    "for i in range(8):\n",
    "    H.append(int(math.modf((PRIMES[i])**(1/2))[0]*(2**32)))"
   ]
  },
  {
   "cell_type": "code",
   "execution_count": 10,
   "id": "7ec35e76",
   "metadata": {},
   "outputs": [],
   "source": [
    "def toAscii(message):\n",
    "    return ''.join(str(bin(ord(c)))[2:].zfill(8) for c in message)"
   ]
  },
  {
   "cell_type": "code",
   "execution_count": 11,
   "id": "39b8b85c",
   "metadata": {},
   "outputs": [],
   "source": [
    "def padding(message_ascii):\n",
    "    l=len(message_ascii)\n",
    "    size=(l//512+1)*512\n",
    "    pad=message_ascii+'1'\n",
    "    for j in range(size-len(pad)-64):\n",
    "        pad=pad+'0'\n",
    "    pad=pad+str(bin(len(toAscii(message))))[2:].zfill(64)\n",
    "    return pad,size"
   ]
  },
  {
   "cell_type": "code",
   "execution_count": 12,
   "id": "8ace3025",
   "metadata": {},
   "outputs": [],
   "source": [
    "def message_block(message):\n",
    "    padded_message=padding(toAscii(message))[0]\n",
    "    nblocks=padding(toAscii(message))[1]//512\n",
    "    w=[[None for _ in range(64)] for _ in range(nblocks)]\n",
    "    for i in range(nblocks):\n",
    "        for j in range(16):\n",
    "            w[i][j]=padded_message[512*i+32*j:512*i+32*(j+1)]\n",
    "        for j in range(16,64):\n",
    "            w[i][j]=str(bin((int(sig1(w[i][j-2]),2)+int(w[i][j-7],2)+int(sig0(w[i][j-15]),2)+int(w[i][j-16],2))%int(2**32)))[2:].zfill(32)\n",
    "    return w"
   ]
  },
  {
   "cell_type": "code",
   "execution_count": 13,
   "id": "925615f6",
   "metadata": {},
   "outputs": [],
   "source": [
    "def compress(w,H0):\n",
    "    H=H0\n",
    "    for j in range(len(w)):\n",
    "        wj=int(w[j],2)\n",
    "        T1=(K[j]+wj+SIG1(H[4])+che(H[4],H[5],H[6])+H[7])%int(2**32)\n",
    "        T2=(SIG0(H[0])+maj(H[0],H[1],H[2]))%int(2**32)  \n",
    "        H=[(T1+T2)%int(2**32) ]+H[:-1]\n",
    "        H[4]=(H[4]+T1)%int(2**32)\n",
    "    return [(H0[i]+H[i])%int(2**32) for i in range(len(H))]"
   ]
  },
  {
   "cell_type": "code",
   "execution_count": 14,
   "id": "89f0b762",
   "metadata": {},
   "outputs": [],
   "source": [
    "def hashgen(message,H0):\n",
    "    w=message_block(message)\n",
    "    H=H0\n",
    "    for i in range(len(w)):\n",
    "        H=compress(w[i],H)\n",
    "    return ''.join(str(hex(x))[2:].zfill(8) for x in H)"
   ]
  },
  {
   "cell_type": "code",
   "execution_count": 15,
   "id": "5d54a4c4",
   "metadata": {},
   "outputs": [],
   "source": [
    "message=\"g9N8bkjWAi1PVJU5P5aWgjkfwkrwuy83qgubvdjazCwdsagr\""
   ]
  },
  {
   "cell_type": "code",
   "execution_count": 16,
   "id": "9b7383a2",
   "metadata": {},
   "outputs": [
    {
     "data": {
      "text/plain": [
       "'d431af217d067efbc4eb19c2f7bbc4924bca730d5cf3bd7cc39784a3e7411318'"
      ]
     },
     "execution_count": 16,
     "metadata": {},
     "output_type": "execute_result"
    }
   ],
   "source": [
    "hashgen(message,H)"
   ]
  },
  {
   "cell_type": "markdown",
   "id": "ee2f259d",
   "metadata": {},
   "source": [
    "## 2. GROVER SEARCH\n",
    "\n",
    "Note: The oracle used here is an arbitrary oracle."
   ]
  },
  {
   "cell_type": "code",
   "execution_count": 17,
   "id": "f3936c80",
   "metadata": {},
   "outputs": [],
   "source": [
    "def initialize_s(qc, qubits):\n",
    "    for q in qubits:\n",
    "        qc.h(q)\n",
    "    return qc"
   ]
  },
  {
   "cell_type": "code",
   "execution_count": 18,
   "id": "16964437",
   "metadata": {},
   "outputs": [],
   "source": [
    "def diffuser(nqubits):\n",
    "    qc = QuantumCircuit(nqubits)\n",
    "    for qubit in range(nqubits):\n",
    "        qc.h(qubit)\n",
    "    for qubit in range(nqubits):\n",
    "        qc.x(qubit)\n",
    "    qc.h(nqubits-1)\n",
    "    qc.mct(list(range(nqubits-1)), nqubits-1)\n",
    "    qc.h(nqubits-1)\n",
    "    for qubit in range(nqubits):\n",
    "        qc.x(qubit)\n",
    "    for qubit in range(nqubits):\n",
    "        qc.h(qubit)\n",
    "    U_s = qc.to_gate()\n",
    "    U_s.name = \"U$_s$\"\n",
    "    return U_s"
   ]
  },
  {
   "cell_type": "code",
   "execution_count": 33,
   "id": "5e39904b",
   "metadata": {},
   "outputs": [],
   "source": [
    "def oracle(nqubits,k):\n",
    "    qc = QuantumCircuit(nqubits)\n",
    "    for i in range(nqubits):\n",
    "        qc.x(nqubits-i-1)\n",
    "    qc.h(nqubits-1)\n",
    "    qc.mct(list(range(nqubits-k,nqubits-1)), nqubits-1)  # multi-controlled-toffoli\n",
    "    qc.h(nqubits-1)\n",
    "    for i in range(nqubits):\n",
    "        qc.x(nqubits-i-1)\n",
    "    oracle_exn = qc.to_gate()\n",
    "    oracle_exn.name = \"U$_\\omega$\"\n",
    "    return oracle_exn"
   ]
  },
  {
   "cell_type": "code",
   "execution_count": 101,
   "id": "f13215ad",
   "metadata": {},
   "outputs": [],
   "source": [
    "def grover_circuit(n,k):\n",
    "    grover_circuit = QuantumCircuit(n)\n",
    "    grover_circuit = initialize_s(grover_circuit, [x for x in range(n)])\n",
    "    for _ in range(int((n//k)**0.5)):\n",
    "        grover_circuit.append(oracle(n,k), [x for x in range(n)])\n",
    "        grover_circuit.append(diffuser(n), [x for x in range(n)])\n",
    "    grover_circuit.measure_all()\n",
    "    return grover_circuit"
   ]
  },
  {
   "cell_type": "code",
   "execution_count": 102,
   "id": "f82ab90c",
   "metadata": {},
   "outputs": [],
   "source": [
    "def simulate(grover_circuit):\n",
    "    aer_sim = Aer.get_backend('aer_simulator')\n",
    "    transpiled_grover_circuit = transpile(grover_circuit, aer_sim)\n",
    "    qobj = assemble(transpiled_grover_circuit)\n",
    "    results = aer_sim.run(qobj).result()\n",
    "    counts = results.get_counts()\n",
    "    return counts"
   ]
  },
  {
   "cell_type": "code",
   "execution_count": 103,
   "id": "7e3b6169",
   "metadata": {},
   "outputs": [
    {
     "name": "stdout",
     "output_type": "stream",
     "text": [
      "(-0.354+0j) (-0.354+0j) (-0.354+0j) (-0.354+0j) (-0.354-0j) (-0.354-0j) (-0.354-0j) (-0.354-0j) \n",
      "(-0.354-0j) (0.354-0j) (-0.354-0j) (0.354-0j) (-0.354-0j) (0.354+0j) (-0.354-0j) (0.354+0j) \n",
      "(0.354+0j) (0.354-0j) (-0.354+0j) (-0.354+0j) (0.354+0j) (0.354+0j) (-0.354-0j) (-0.354-0j) \n",
      "(0.354+0j) (-0.354+0j) (-0.354-0j) (0.354-0j) (0.354+0j) (-0.354-0j) (-0.354-0j) (0.354+0j) \n",
      "(0.354+0j) (0.354-0j) (0.354+0j) (0.354-0j) (-0.354-0j) (-0.354-0j) (-0.354-0j) (-0.354-0j) \n",
      "(0.354+0j) (-0.354+0j) (0.354+0j) (-0.354+0j) (-0.354-0j) (0.354+0j) (-0.354-0j) (0.354+0j) \n",
      "(0.354+0j) (0.354-0j) (-0.354+0j) (-0.354+0j) (-0.354-0j) (-0.354-0j) (0.354+0j) (0.354+0j) \n",
      "(0.354+0j) (-0.354+0j) (-0.354-0j) (0.354-0j) (-0.354-0j) (0.354+0j) (0.354+0j) (-0.354-0j) \n"
     ]
    }
   ],
   "source": [
    "qc = QuantumCircuit(3)\n",
    "qc = initialize_s(qc, [x for x in range(3)])\n",
    "qc.append(oracle(3,2),[x for x in range(3)])\n",
    "backend = Aer.get_backend('unitary_simulator')\n",
    "job = backend.run(transpile(qc, backend))\n",
    "for i in job.result().get_unitary(qc, decimals=3):\n",
    "    for j in i:\n",
    "        print(j,end=' ')\n",
    "    print()"
   ]
  },
  {
   "cell_type": "code",
   "execution_count": 104,
   "id": "840bbfa1",
   "metadata": {
    "scrolled": true
   },
   "outputs": [
    {
     "data": {
      "image/png": "[encoded data removed]",
      "text/plain": [
       "<Figure size 658.679x385.28 with 1 Axes>"
      ]
     },
     "execution_count": 104,
     "metadata": {},
     "output_type": "execute_result"
    }
   ],
   "source": [
    "grover_circuit(5,2).draw('mpl')"
   ]
  },
  {
   "cell_type": "code",
   "execution_count": 109,
   "id": "d15cc681",
   "metadata": {},
   "outputs": [
    {
     "data": {
      "image/png": "[encoded data removed]",
      "text/plain": [
       "<Figure size 504x360 with 1 Axes>"
      ]
     },
     "execution_count": 109,
     "metadata": {},
     "output_type": "execute_result"
    }
   ],
   "source": [
    "plot_histogram(simulate(grover_circuit(6,4)))"
   ]
  },
  {
   "cell_type": "code",
   "execution_count": null,
   "id": "b9de4b4a",
   "metadata": {},
   "outputs": [],
   "source": []
  },
  {
   "cell_type": "code",
   "execution_count": null,
   "id": "b84a21b1",
   "metadata": {},
   "outputs": [],
   "source": []
  }
 ],
 "metadata": {
  "kernelspec": {
   "display_name": "Python 3",
   "language": "python",
   "name": "python3"
  },
  "language_info": {
   "codemirror_mode": {
    "name": "ipython",
    "version": 3
   },
   "file_extension": ".py",
   "mimetype": "text/x-python",
   "name": "python",
   "nbconvert_exporter": "python",
   "pygments_lexer": "ipython3",
   "version": "3.9.5"
  }
 },
 "nbformat": 4,
 "nbformat_minor": 5
}
