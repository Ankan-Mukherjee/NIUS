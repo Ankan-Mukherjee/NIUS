{
 "cells": [
  {
   "cell_type": "markdown",
   "metadata": {
    "tags": [
     "remove_cell"
    ]
   },
   "source": [
    "# Quantum Key Distribution"
   ]
  },
  {
   "cell_type": "markdown",
   "metadata": {
    "tags": [
     "contents"
    ]
   },
   "source": [
    "## Contents\n",
    "\n",
    "1. Introduction\n",
    "2. Protocol Overview\n",
    "3. Qiskit Example: Without Interception\n",
    "4. Qiskit Example: With Interception\n",
    "5. Risk Analysis"
   ]
  },
  {
   "cell_type": "markdown",
   "metadata": {},
   "source": [
    "## 1. Introduction\n",
    "\n",
    "When Alice and Bob want to communicate a secret message (such as Bob’s online banking details) over an insecure channel (such as the internet), it is essential to encrypt the message. Since cryptography is a large area and almost all of it is outside the scope of this textbook, we will have to believe that Alice and Bob having a secret key that no one else knows is useful and allows them to communicate using symmetric-key cryptography.\n",
    "\n",
    "If Alice and Bob want to use Eve’s classical communication channel to share their key, it is impossible to tell if Eve has made a copy of this key for herself- they must place complete trust in Eve that she is not listening. If, however, Eve provides a quantum communication channel, Alice and Bob no longer need to trust Eve at all- they will know if she tries to read Bob’s message before it gets to Alice.\n",
    "\n",
    "For some readers, it may be useful to give an idea of how a quantum channel may be physically implemented. An example of a classical channel could be a telephone line; we send electric signals through the line that represent our message (or bits). A proposed example of a quantum communication channel could be some kind of fibre-optic cable, through which we can send individual photons (particles of light). Photons have a property called _polarisation,_ and this polarisation can be one of two states. We can use this to represent a qubit.\n",
    "\n",
    "\n",
    "## 2. Protocol Overview  \n",
    "\n",
    "The protocol makes use of the fact that measuring a qubit can change its state. If Alice sends Bob a qubit, and an eavesdropper (Eve) tries to measure it before Bob does, there is a chance that Eve’s measurement will change the state of the qubit and Bob will not receive the qubit state Alice sent.  "
   ]
  },
  {
   "cell_type": "code",
   "execution_count": 1,
   "metadata": {
    "scrolled": true,
    "tags": [
     "thebelab-init"
    ]
   },
   "outputs": [
    {
     "name": "stdout",
     "output_type": "stream",
     "text": [
      "Imports Successful\n"
     ]
    }
   ],
   "source": [
    "from qiskit import QuantumCircuit, Aer, transpile, assemble\n",
    "from qiskit.visualization import plot_histogram, plot_bloch_multivector\n",
    "from numpy.random import randint\n",
    "import numpy as np\n",
    "print(\"Imports Successful\")"
   ]
  },
  {
   "cell_type": "markdown",
   "metadata": {},
   "source": [
    "If Alice prepares a qubit in the state $|+\\rangle$ (`0` in the $X$-basis), and Bob measures it in the $X$-basis, Bob is sure to measure `0`:"
   ]
  },
  {
   "cell_type": "code",
   "execution_count": 38,
   "metadata": {},
   "outputs": [
    {
     "data": {
      "image/png": "[encoded data removed]",
      "text/plain": [
       "<Figure size 314.126x144.48 with 1 Axes>"
      ]
     },
     "metadata": {},
     "output_type": "display_data"
    },
    {
     "data": {
      "image/png": "[encoded data removed]",
      "text/plain": [
       "<Figure size 504x360 with 1 Axes>"
      ]
     },
     "execution_count": 38,
     "metadata": {},
     "output_type": "execute_result"
    }
   ],
   "source": [
    "qc = QuantumCircuit(1,1)\n",
    "# Alice prepares qubit in state |+>\n",
    "qc.h(0)\n",
    "qc.barrier()\n",
    "# Alice now sends the qubit to Bob\n",
    "# who measures it in the X-basis\n",
    "qc.h(0)\n",
    "qc.measure(0,0)\n",
    "\n",
    "# Draw and simulate circuit\n",
    "display(qc.draw('mpl'))\n",
    "qasm_sim = Aer.get_backend('qasm_simulator')\n",
    "job = qasm_sim.run(assemble(qc))\n",
    "plot_histogram(job.result().get_counts())"
   ]
  },
  {
   "cell_type": "markdown",
   "metadata": {},
   "source": [
    "But if Eve tries to measure this qubit in the $Z$-basis before it reaches Bob, she will change the qubit's state from $|+\\rangle$ to either $|0\\rangle$ or $|1\\rangle$, and Bob is no longer certain to measure `0`:"
   ]
  },
  {
   "cell_type": "code",
   "execution_count": 39,
   "metadata": {},
   "outputs": [
    {
     "data": {
      "image/png": "[encoded data removed]",
      "text/plain": [
       "<Figure size 374.326x144.48 with 1 Axes>"
      ]
     },
     "metadata": {},
     "output_type": "display_data"
    },
    {
     "data": {
      "image/png": "[encoded data removed]",
      "text/plain": [
       "<Figure size 504x360 with 1 Axes>"
      ]
     },
     "execution_count": 39,
     "metadata": {},
     "output_type": "execute_result"
    }
   ],
   "source": [
    "qc = QuantumCircuit(1,1)\n",
    "# Alice prepares qubit in state |+>\n",
    "qc.h(0)\n",
    "# Alice now sends the qubit to Bob\n",
    "# but Eve intercepts and tries to read it\n",
    "qc.measure(0, 0)\n",
    "qc.barrier()\n",
    "# Eve then passes this on to Bob\n",
    "# who measures it in the X-basis\n",
    "qc.h(0)\n",
    "qc.measure(0,0)\n",
    "\n",
    "# Draw and simulate circuit\n",
    "display(qc.draw('mpl'))\n",
    "qasm_sim = Aer.get_backend('qasm_simulator')\n",
    "job = qasm_sim.run(assemble(qc))\n",
    "plot_histogram(job.result().get_counts())"
   ]
  },
  {
   "cell_type": "markdown",
   "metadata": {},
   "source": [
    "We can see here that Bob now has a 50% chance of measuring `1`, and if he does, he and Alice will know there is something wrong with their channel.\n",
    "\n",
    "The quantum key distribution protocol involves repeating this process enough times that an eavesdropper has a negligible chance of getting away with this interception. It is roughly as follows:\n",
    "\n",
    "**- Step 1**\n",
    "\n",
    "Alice chooses a string of random bits, e.g.:\n",
    "\n",
    "`1000101011010100`\n",
    "\n",
    "And a random choice of basis for each bit:\n",
    "\n",
    "`ZZXZXXXZXZXXXXXX`\n",
    "\n",
    "Alice keeps these two pieces of information private to herself. \n",
    "\n",
    "**- Step 2**\n",
    "\n",
    "Alice then encodes each bit onto a string of qubits using the basis she chose; this means each qubit is in one of the states $|0\\rangle$, $|1\\rangle$, $|+\\rangle$ or $|-\\rangle$, chosen at random. In this case, the string of qubits would look like this:\n",
    "\n",
    "$$ |1\\rangle|0\\rangle|+\\rangle|0\\rangle|-\\rangle|+\\rangle|-\\rangle|0\\rangle|-\\rangle|1\\rangle|+\\rangle|-\\rangle|+\\rangle|-\\rangle|+\\rangle|+\\rangle\n",
    "$$\n",
    "\n",
    "This is the message she sends to Bob.\n",
    "\n",
    "**- Step 3**\n",
    "\n",
    "Bob then measures each qubit at random, for example, he might use the bases:\n",
    "\n",
    "`XZZZXZXZXZXZZZXZ`\n",
    "\n",
    "And Bob keeps the measurement results private.\n",
    "\n",
    "**- Step 4**\n",
    "\n",
    "Bob and Alice then publicly share which basis they used for each qubit. If Bob measured a qubit in the same basis Alice prepared it in, they use this to form part of their shared secret key, otherwise they discard the information for that bit.\n",
    "\n",
    "**- Step 5**\n",
    "\n",
    "Finally, Bob and Alice share a random sample of their keys, and if the samples match, they can be sure (to a small margin of error) that their transmission is successful.\n"
   ]
  },
  {
   "cell_type": "markdown",
   "metadata": {},
   "source": [
    "## 3. Qiskit Example: Without Interception\n",
    "\n",
    "Let’s first see how the protocol works when no one is listening in, then we can see how Alice and Bob are able to detect an eavesdropper. As always, let's start by importing everything we need:"
   ]
  },
  {
   "cell_type": "markdown",
   "metadata": {},
   "source": [
    "To generate pseudo-random keys, we will use the `randint` function from numpy. To make sure you can reproduce the results on this page, we will set the seed to 0:"
   ]
  },
  {
   "cell_type": "code",
   "execution_count": 4,
   "metadata": {},
   "outputs": [],
   "source": [
    "np.random.seed(seed=0)"
   ]
  },
  {
   "cell_type": "markdown",
   "metadata": {},
   "source": [
    "We will call the length of Alice's initial message `n`. In this example, Alice will send a message 100 qubits long:"
   ]
  },
  {
   "cell_type": "code",
   "execution_count": 5,
   "metadata": {},
   "outputs": [],
   "source": [
    "n = 100"
   ]
  },
  {
   "cell_type": "markdown",
   "metadata": {},
   "source": [
    "### 3.1 Step 1:\n",
    "\n",
    "Alice generates her random set of bits:"
   ]
  },
  {
   "cell_type": "code",
   "execution_count": 6,
   "metadata": {},
   "outputs": [
    {
     "name": "stdout",
     "output_type": "stream",
     "text": [
      "[0 1 1 0 1 1 1 1 1 1 1 0 0 1 0 0 0 0 0 1 0 1 1 0 0 1 1 1 1 0 1 0 1 0 1 1 0\n",
      " 1 1 0 0 1 0 1 1 1 1 1 0 1 0 1 1 1 1 0 1 0 0 1 1 0 1 0 1 0 0 0 0 0 1 1 0 0\n",
      " 0 1 1 0 1 0 0 1 0 1 1 1 1 1 1 0 1 1 0 0 1 0 0 1 1 0]\n"
     ]
    }
   ],
   "source": [
    "np.random.seed(seed=0)\n",
    "n = 100\n",
    "## Step 1\n",
    "# Alice generates bits\n",
    "alice_bits = randint(2, size=n)\n",
    "print(alice_bits)"
   ]
  },
  {
   "cell_type": "markdown",
   "metadata": {},
   "source": [
    "At the moment, the set of bits '`alice_bits`' is only known to Alice. We will keep track of what information is only known to Alice, what information is only known to Bob, and what has been sent over Eve's channel in a table like this:\n",
    "\n",
    "| Alice's Knowledge |Over Eve's Channel| Bob's Knowledge |\n",
    "|:-----------------:|:----------------:|:---------------:|\n",
    "|     alice_bits    |                  |       &nbsp;    |\n",
    "\n",
    "### 3.2 Step 2:\n",
    "\n",
    "Alice chooses to encode each bit on qubit in the $X$ or $Z$-basis at random, and stores the choice for each qubit in `alice_bases`. In this case, a `0` means \"prepare in the $Z$-basis\", and a `1` means \"prepare in the $X$-basis\":"
   ]
  },
  {
   "cell_type": "code",
   "execution_count": 7,
   "metadata": {},
   "outputs": [
    {
     "name": "stdout",
     "output_type": "stream",
     "text": [
      "[1 0 0 1 0 0 0 1 1 0 1 0 0 0 0 0 1 0 1 0 1 1 1 1 1 0 1 1 1 1 0 1 1 0 0 1 0\n",
      " 0 0 0 1 1 0 0 1 0 1 1 1 1 0 0 0 1 0 1 1 1 0 1 0 0 1 0 1 1 0 0 1 0 1 0 1 0\n",
      " 1 0 1 0 0 0 1 0 1 0 1 0 0 0 0 0 1 0 0 1 0 0 0 1 0 0]\n"
     ]
    }
   ],
   "source": [
    "np.random.seed(seed=0)\n",
    "n = 100\n",
    "## Step 1\n",
    "#Alice generates bits\n",
    "alice_bits = randint(2, size=n)\n",
    "\n",
    "## Step 2\n",
    "# Create an array to tell us which qubits\n",
    "# are encoded in which bases\n",
    "alice_bases = randint(2, size=n)\n",
    "print(alice_bases)"
   ]
  },
  {
   "cell_type": "markdown",
   "metadata": {},
   "source": [
    "Alice also keeps this knowledge private:\n",
    "\n",
    "| Alice's Knowledge |Over Eve's Channel| Bob's Knowledge |\n",
    "|:-----------------:|:----------------:|:---------------:|\n",
    "|     alice_bits    |                  |                 |\n",
    "|    alice_bases    |                  |     &nbsp;      |\n",
    "\n",
    "The function `encode_message` below, creates a list of `QuantumCircuit`s, each representing a single qubit in Alice's message:"
   ]
  },
  {
   "cell_type": "code",
   "execution_count": 8,
   "metadata": {
    "tags": [
     "thebelab-init"
    ]
   },
   "outputs": [],
   "source": [
    "def encode_message(bits, bases):\n",
    "    message = []\n",
    "    for i in range(n):\n",
    "        qc = QuantumCircuit(1,1)\n",
    "        if bases[i] == 0: # Prepare qubit in Z-basis\n",
    "            if bits[i] == 0:\n",
    "                pass \n",
    "            else:\n",
    "                qc.x(0)\n",
    "        else: # Prepare qubit in X-basis\n",
    "            if bits[i] == 0:\n",
    "                qc.h(0)\n",
    "            else:\n",
    "                qc.x(0)\n",
    "                qc.h(0)\n",
    "        qc.barrier()\n",
    "        message.append(qc)\n",
    "    return message"
   ]
  },
  {
   "cell_type": "code",
   "execution_count": 9,
   "metadata": {},
   "outputs": [],
   "source": [
    "np.random.seed(seed=0)\n",
    "n = 100\n",
    "\n",
    "## Step 1\n",
    "# Alice generates bits\n",
    "alice_bits = randint(2, size=n)\n",
    "\n",
    "## Step 2\n",
    "# Create an array to tell us which qubits\n",
    "# are encoded in which bases\n",
    "alice_bases = randint(2, size=n)\n",
    "message = encode_message(alice_bits, alice_bases)"
   ]
  },
  {
   "cell_type": "markdown",
   "metadata": {},
   "source": [
    "We can see that the first bit in `alices_bits` is `0`, and the basis she encodes this in is the $X$-basis (represented by `1`):"
   ]
  },
  {
   "cell_type": "code",
   "execution_count": 10,
   "metadata": {},
   "outputs": [
    {
     "name": "stdout",
     "output_type": "stream",
     "text": [
      "bit = 0\n",
      "basis = 1\n"
     ]
    }
   ],
   "source": [
    "print('bit = %i' % alice_bits[0])\n",
    "print('basis = %i' % alice_bases[0])"
   ]
  },
  {
   "cell_type": "markdown",
   "metadata": {},
   "source": [
    "And if we view the first circuit in `message` (representing the first qubit in Alice's message), we can verify that Alice has prepared a qubit in the state $|+\\rangle$:"
   ]
  },
  {
   "cell_type": "code",
   "execution_count": 40,
   "metadata": {},
   "outputs": [
    {
     "data": {
      "image/png": "[encoded data removed]",
      "text/plain": [
       "<Figure size 253.926x144.48 with 1 Axes>"
      ]
     },
     "execution_count": 40,
     "metadata": {},
     "output_type": "execute_result"
    }
   ],
   "source": [
    "message[0].draw('mpl')"
   ]
  },
  {
   "cell_type": "markdown",
   "metadata": {},
   "source": [
    "As another example, we can see that the fourth bit in `alice_bits` is `1`, and it is encoded in the $Z$-basis, Alice prepares the corresponding qubit in the state $|1\\rangle$:"
   ]
  },
  {
   "cell_type": "code",
   "execution_count": 41,
   "metadata": {},
   "outputs": [
    {
     "name": "stdout",
     "output_type": "stream",
     "text": [
      "bit = 1\n",
      "basis = 1\n"
     ]
    },
    {
     "data": {
      "image/png": "[encoded data removed]",
      "text/plain": [
       "<Figure size 374.326x144.48 with 1 Axes>"
      ]
     },
     "execution_count": 41,
     "metadata": {},
     "output_type": "execute_result"
    }
   ],
   "source": [
    "print('bit = %i' % alice_bits[4])\n",
    "print('basis = %i' % alice_bases[4])\n",
    "message[4].draw('mpl')"
   ]
  },
  {
   "cell_type": "markdown",
   "metadata": {},
   "source": [
    "This message of qubits is then sent to Bob over Eve's quantum channel:\n",
    "\n",
    "| Alice's Knowledge |Over Eve's Channel| Bob's Knowledge |\n",
    "|:-----------------:|:----------------:|:---------------:|\n",
    "|     alice_bits    |                  |                 |\n",
    "|    alice_bases    |                  |                 |\n",
    "|      message      |     message      |     message     |\n",
    "\n",
    "### 3.3 Step 3:\n",
    "\n",
    "Bob then measures each qubit in the $X$ or $Z$-basis at random and stores this information:"
   ]
  },
  {
   "cell_type": "code",
   "execution_count": 13,
   "metadata": {},
   "outputs": [
    {
     "name": "stdout",
     "output_type": "stream",
     "text": [
      "[1 0 1 0 0 1 1 0 0 0 1 1 0 0 0 0 0 1 0 1 0 0 0 1 1 1 0 0 1 1 1 1 0 0 0 1 1\n",
      " 0 1 0 0 1 0 1 1 1 1 0 0 0 1 1 1 0 1 1 1 1 0 0 1 1 0 0 0 1 1 0 1 1 1 1 1 0\n",
      " 0 0 1 0 1 0 1 1 0 0 0 1 0 0 1 1 1 1 0 1 0 0 0 0 1 1]\n"
     ]
    }
   ],
   "source": [
    "np.random.seed(seed=0)\n",
    "n = 100\n",
    "\n",
    "## Step 1\n",
    "# Alice generates bits\n",
    "alice_bits = randint(2, size=n)\n",
    "\n",
    "## Step 2\n",
    "# Create an array to tell us which qubits\n",
    "# are encoded in which bases\n",
    "alice_bases = randint(2, size=n)\n",
    "message = encode_message(alice_bits, alice_bases)\n",
    "\n",
    "## Step 3\n",
    "# Decide which basis to measure in:\n",
    "bob_bases = randint(2, size=n)\n",
    "print(bob_bases)"
   ]
  },
  {
   "cell_type": "markdown",
   "metadata": {},
   "source": [
    "`bob_bases` stores Bob's choice for which basis he measures each qubit in.\n",
    "\n",
    "| Alice's Knowledge |Over Eve's Channel| Bob's Knowledge |\n",
    "|:-----------------:|:----------------:|:---------------:|\n",
    "|     alice_bits    |                  |                 |\n",
    "|    alice_bases    |                  |                 |\n",
    "|      message      |     message      |     message     |\n",
    "|                   |                  |    bob_bases    |\n",
    "\n",
    "Below, the function `measure_message` applies the corresponding measurement and simulates the result of measuring each qubit. We store the measurement results in `bob_results`."
   ]
  },
  {
   "cell_type": "code",
   "execution_count": 14,
   "metadata": {
    "tags": [
     "thebelab-init"
    ]
   },
   "outputs": [],
   "source": [
    "def measure_message(message, bases):\n",
    "    backend = Aer.get_backend('qasm_simulator')\n",
    "    measurements = []\n",
    "    for q in range(n):\n",
    "        if bases[q] == 0: # measuring in Z-basis\n",
    "            message[q].measure(0,0)\n",
    "        if bases[q] == 1: # measuring in X-basis\n",
    "            message[q].h(0)\n",
    "            message[q].measure(0,0)\n",
    "        qasm_sim = Aer.get_backend('qasm_simulator')\n",
    "        qobj = assemble(message[q], shots=1, memory=True)\n",
    "        result = qasm_sim.run(qobj).result()\n",
    "        measured_bit = int(result.get_memory()[0])\n",
    "        measurements.append(measured_bit)\n",
    "    return measurements"
   ]
  },
  {
   "cell_type": "code",
   "execution_count": 15,
   "metadata": {},
   "outputs": [],
   "source": [
    "np.random.seed(seed=0)\n",
    "n = 100\n",
    "\n",
    "## Step 1\n",
    "# Alice generates bits\n",
    "alice_bits = randint(2, size=n)\n",
    "\n",
    "## Step 2\n",
    "# Create an array to tell us which qubits\n",
    "# are encoded in which bases\n",
    "alice_bases = randint(2, size=n)\n",
    "message = encode_message(alice_bits, alice_bases)\n",
    "\n",
    "## Step 3\n",
    "# Decide which basis to measure in:\n",
    "bob_bases = randint(2, size=n)\n",
    "bob_results = measure_message(message, bob_bases)"
   ]
  },
  {
   "cell_type": "markdown",
   "metadata": {},
   "source": [
    "We can see that the circuit in `message[0]` (representing the 0th qubit) has had an $X$-measurement added to it by Bob:"
   ]
  },
  {
   "cell_type": "code",
   "execution_count": 42,
   "metadata": {},
   "outputs": [
    {
     "data": {
      "image/png": "[encoded data removed]",
      "text/plain": [
       "<Figure size 253.926x144.48 with 1 Axes>"
      ]
     },
     "execution_count": 42,
     "metadata": {},
     "output_type": "execute_result"
    }
   ],
   "source": [
    "message[0].draw('mpl')"
   ]
  },
  {
   "cell_type": "markdown",
   "metadata": {},
   "source": [
    "Since Bob has by chance chosen to measure in the same basis Alice encoded the qubit in, Bob is guaranteed to get the result `0`. For the 6th qubit (shown below), Bob's random choice of measurement is not the same as Alice's, and Bob's result has only a 50% chance of matching Alices'. "
   ]
  },
  {
   "cell_type": "code",
   "execution_count": 43,
   "metadata": {},
   "outputs": [
    {
     "data": {
      "image/png": "[encoded data removed]",
      "text/plain": [
       "<Figure size 314.126x144.48 with 1 Axes>"
      ]
     },
     "execution_count": 43,
     "metadata": {},
     "output_type": "execute_result"
    }
   ],
   "source": [
    "message[6].draw('mpl')"
   ]
  },
  {
   "cell_type": "code",
   "execution_count": 18,
   "metadata": {},
   "outputs": [
    {
     "name": "stdout",
     "output_type": "stream",
     "text": [
      "[0, 1, 0, 0, 1, 1, 1, 0, 0, 1, 1, 0, 0, 1, 0, 0, 0, 0, 0, 1, 0, 1, 0, 0, 0, 1, 0, 1, 1, 0, 0, 0, 1, 0, 1, 1, 0, 1, 1, 0, 0, 1, 0, 1, 1, 1, 1, 1, 0, 0, 0, 0, 0, 0, 0, 0, 1, 0, 0, 0, 0, 0, 0, 0, 0, 0, 0, 0, 0, 1, 1, 0, 0, 0, 0, 1, 1, 0, 1, 0, 0, 1, 0, 1, 0, 1, 1, 1, 0, 0, 1, 0, 0, 0, 1, 0, 0, 1, 1, 1]\n"
     ]
    }
   ],
   "source": [
    "print(bob_results)"
   ]
  },
  {
   "cell_type": "markdown",
   "metadata": {},
   "source": [
    "Bob keeps his results private.\n",
    "\n",
    "| Alice's Knowledge | Over Eve's Channel | Bob's Knowledge |\n",
    "|:-----------------:|:------------------:|:---------------:|\n",
    "|     alice_bits    |                    |                 |\n",
    "|    alice_bases    |                    |                 |\n",
    "|      message      |       message      |     message     |\n",
    "|                   |                    |    bob_bases    |\n",
    "|                   |                    |   bob_results   |\n",
    "\n",
    "### 3.4 Step 4:\n",
    "\n",
    "After this, Alice reveals (through Eve's channel) which qubits were encoded in which basis: \n",
    "\n",
    "| Alice's Knowledge | Over Eve's Channel | Bob's Knowledge |\n",
    "|:-----------------:|:------------------:|:---------------:|\n",
    "|     alice_bits    |                    |                 |\n",
    "|    alice_bases    |                    |                 |\n",
    "|      message      |       message      |     message     |\n",
    "|                   |                    |    bob_bases    |\n",
    "|                   |                    |   bob_results   |\n",
    "|                   |     alice_bases    |   alice_bases   |\n",
    "\n",
    "And Bob reveals which basis he measured each qubit in:\n",
    "\n",
    "| Alice's Knowledge | Over Eve's Channel | Bob's Knowledge |\n",
    "|:-----------------:|:------------------:|:---------------:|\n",
    "|     alice_bits    |                    |                 |\n",
    "|    alice_bases    |                    |                 |\n",
    "|      message      |       message      |     message     |\n",
    "|                   |                    |    bob_bases    |\n",
    "|                   |                    |   bob_results   |\n",
    "|                   |     alice_bases    |   alice_bases   |\n",
    "|     bob_bases     |      bob_bases     |      &nbsp;     |\n",
    "\n",
    "If Bob happened to measure a bit in the same basis Alice prepared it in, this means the entry in `bob_results` will match the corresponding entry in `alice_bits`, and they can use that bit as part of their key. If they measured in different bases, Bob's result is random, and they both throw that entry away. Here is a function `remove_garbage` that does this for us:"
   ]
  },
  {
   "cell_type": "code",
   "execution_count": 19,
   "metadata": {
    "scrolled": true,
    "tags": [
     "thebelab-init"
    ]
   },
   "outputs": [],
   "source": [
    "def remove_garbage(a_bases, b_bases, bits):\n",
    "    good_bits = []\n",
    "    for q in range(n):\n",
    "        if a_bases[q] == b_bases[q]:\n",
    "            # If both used the same basis, add\n",
    "            # this to the list of 'good' bits\n",
    "            good_bits.append(bits[q])\n",
    "    return good_bits"
   ]
  },
  {
   "cell_type": "markdown",
   "metadata": {},
   "source": [
    "Alice and Bob both discard the useless bits, and use the remaining bits to form their secret keys:"
   ]
  },
  {
   "cell_type": "code",
   "execution_count": 20,
   "metadata": {},
   "outputs": [
    {
     "name": "stdout",
     "output_type": "stream",
     "text": [
      "[0, 1, 1, 1, 1, 0, 1, 0, 0, 0, 0, 1, 0, 0, 0, 1, 1, 1, 0, 1, 0, 1, 1, 0, 1, 0, 0, 0, 0, 0, 0, 1, 0, 0, 1, 1, 0, 0, 0, 1, 1, 1, 1, 0, 0, 1, 0, 0]\n"
     ]
    }
   ],
   "source": [
    "np.random.seed(seed=0)\n",
    "n = 100\n",
    "\n",
    "## Step 1\n",
    "# Alice generates bits\n",
    "alice_bits = randint(2, size=n)\n",
    "\n",
    "## Step 2\n",
    "# Create an array to tell us which qubits\n",
    "# are encoded in which bases\n",
    "alice_bases = randint(2, size=n)\n",
    "message = encode_message(alice_bits, alice_bases)\n",
    "\n",
    "## Step 3\n",
    "# Decide which basis to measure in:\n",
    "bob_bases = randint(2, size=n)\n",
    "bob_results = measure_message(message, bob_bases)\n",
    "\n",
    "## Step 4\n",
    "alice_key = remove_garbage(alice_bases, bob_bases, alice_bits)\n",
    "print(alice_key)"
   ]
  },
  {
   "cell_type": "markdown",
   "metadata": {},
   "source": [
    "| Alice's Knowledge | Over Eve's Channel | Bob's Knowledge |\n",
    "|:-----------------:|:------------------:|:---------------:|\n",
    "|     alice_bits    |                    |                 |\n",
    "|    alice_bases    |                    |                 |\n",
    "|      message      |       message      |     message     |\n",
    "|                   |                    |    bob_bases    |\n",
    "|                   |                    |   bob_results   |\n",
    "|                   |     alice_bases    |   alice_bases   |\n",
    "|     bob_bases     |      bob_bases     |                 |\n",
    "|     alice_key     |                    |     &nbsp;      |"
   ]
  },
  {
   "cell_type": "code",
   "execution_count": 21,
   "metadata": {},
   "outputs": [
    {
     "name": "stdout",
     "output_type": "stream",
     "text": [
      "[0, 1, 1, 1, 1, 0, 1, 0, 0, 0, 0, 1, 0, 0, 0, 1, 1, 1, 0, 1, 0, 1, 1, 0, 1, 0, 0, 0, 0, 0, 0, 1, 0, 0, 1, 1, 0, 0, 0, 1, 1, 1, 1, 0, 0, 1, 0, 0]\n"
     ]
    }
   ],
   "source": [
    "np.random.seed(seed=0)\n",
    "n = 100\n",
    "\n",
    "## Step 1\n",
    "# Alice generates bits\n",
    "alice_bits = randint(2, size=n)\n",
    "\n",
    "## Step 2\n",
    "# Create an array to tell us which qubits\n",
    "# are encoded in which bases\n",
    "alice_bases = randint(2, size=n)\n",
    "message = encode_message(alice_bits, alice_bases)\n",
    "\n",
    "## Step 3\n",
    "# Decide which basis to measure in:\n",
    "bob_bases = randint(2, size=n)\n",
    "bob_results = measure_message(message, bob_bases)\n",
    "\n",
    "## Step 4\n",
    "alice_key = remove_garbage(alice_bases, bob_bases, alice_bits)\n",
    "bob_key = remove_garbage(alice_bases, bob_bases, bob_results)\n",
    "print(bob_key)"
   ]
  },
  {
   "cell_type": "markdown",
   "metadata": {},
   "source": [
    "| Alice's Knowledge | Over Eve's Channel | Bob's Knowledge |\n",
    "|:-----------------:|:------------------:|:---------------:|\n",
    "|     alice_bits    |                    |                 |\n",
    "|    alice_bases    |                    |                 |\n",
    "|      message      |       message      |     message     |\n",
    "|                   |                    |    bob_bases    |\n",
    "|                   |                    |   bob_results   |\n",
    "|                   |     alice_bases    |   alice_bases   |\n",
    "|     bob_bases     |      bob_bases     |                 |\n",
    "|     alice_key     |                    |     bob_key     |"
   ]
  },
  {
   "cell_type": "markdown",
   "metadata": {},
   "source": [
    "### 3.5 Step 5:\n",
    "\n",
    "Finally, Bob and Alice compare a random selection of the bits in their keys to make sure the protocol has worked correctly:"
   ]
  },
  {
   "cell_type": "code",
   "execution_count": 22,
   "metadata": {
    "tags": [
     "thebelab-init"
    ]
   },
   "outputs": [],
   "source": [
    "def sample_bits(bits, selection):\n",
    "    sample = []\n",
    "    for i in selection:\n",
    "        # use np.mod to make sure the\n",
    "        # bit we sample is always in \n",
    "        # the list range\n",
    "        i = np.mod(i, len(bits))\n",
    "        # pop(i) removes the element of the\n",
    "        # list at index 'i'\n",
    "        sample.append(bits.pop(i))\n",
    "    return sample"
   ]
  },
  {
   "cell_type": "markdown",
   "metadata": {},
   "source": [
    "Alice and Bob both broadcast these publicly, and remove them from their keys as they are no longer secret:"
   ]
  },
  {
   "cell_type": "code",
   "execution_count": 23,
   "metadata": {},
   "outputs": [
    {
     "name": "stdout",
     "output_type": "stream",
     "text": [
      "  bob_sample = [0, 1, 0, 1, 1, 0, 0, 0, 0, 0, 0, 1, 0, 0, 0]\n",
      "alice_sample = [0, 1, 0, 1, 1, 0, 0, 0, 0, 0, 0, 1, 0, 0, 0]\n"
     ]
    }
   ],
   "source": [
    "np.random.seed(seed=0)\n",
    "n = 100\n",
    "\n",
    "## Step 1\n",
    "# Alice generates bits\n",
    "alice_bits = randint(2, size=n)\n",
    "\n",
    "## Step 2\n",
    "# Create an array to tell us which qubits\n",
    "# are encoded in which bases\n",
    "alice_bases = randint(2, size=n)\n",
    "message = encode_message(alice_bits, alice_bases)\n",
    "\n",
    "## Step 3\n",
    "# Decide which basis to measure in:\n",
    "bob_bases = randint(2, size=n)\n",
    "bob_results = measure_message(message, bob_bases)\n",
    "\n",
    "## Step 4\n",
    "alice_key = remove_garbage(alice_bases, bob_bases, alice_bits)\n",
    "bob_key = remove_garbage(alice_bases, bob_bases, bob_results)\n",
    "\n",
    "## Step 5\n",
    "sample_size = 15\n",
    "bit_selection = randint(n, size=sample_size)\n",
    "\n",
    "bob_sample = sample_bits(bob_key, bit_selection)\n",
    "print(\"  bob_sample = \" + str(bob_sample))\n",
    "alice_sample = sample_bits(alice_key, bit_selection)\n",
    "print(\"alice_sample = \"+ str(alice_sample))"
   ]
  },
  {
   "cell_type": "markdown",
   "metadata": {},
   "source": [
    "| Alice's Knowledge | Over Eve's Channel | Bob's Knowledge |\n",
    "|:-----------------:|:------------------:|:---------------:|\n",
    "|     alice_bits    |                    |                 |\n",
    "|    alice_bases    |                    |                 |\n",
    "|      message      |       message      |     message     |\n",
    "|                   |                    |    bob_bases    |\n",
    "|                   |                    |   bob_results   |\n",
    "|                   |     alice_bases    |   alice_bases   |\n",
    "|     bob_bases     |      bob_bases     |                 |\n",
    "|     alice_key     |                    |     bob_key     |\n",
    "|     bob_sample    |     bob_sample     |    bob_sample   |\n",
    "|    alice_sample   |    alice_sample    |   alice_sample  |"
   ]
  },
  {
   "cell_type": "markdown",
   "metadata": {},
   "source": [
    "If the protocol has worked correctly without interference, their samples should match:"
   ]
  },
  {
   "cell_type": "code",
   "execution_count": 24,
   "metadata": {},
   "outputs": [
    {
     "data": {
      "text/plain": [
       "True"
      ]
     },
     "execution_count": 24,
     "metadata": {},
     "output_type": "execute_result"
    }
   ],
   "source": [
    "bob_sample == alice_sample"
   ]
  },
  {
   "cell_type": "markdown",
   "metadata": {},
   "source": [
    "If their samples match, it means (with high probability) `alice_key == bob_key`. They now share a secret key they can use to encrypt their messages!\n",
    "\n",
    "| Alice's Knowledge | Over Eve's Channel | Bob's Knowledge |\n",
    "|:-----------------:|:------------------:|:---------------:|\n",
    "|     alice_bits    |                    |                 |\n",
    "|    alice_bases    |                    |                 |\n",
    "|      message      |       message      |     message     |\n",
    "|                   |                    |    bob_bases    |\n",
    "|                   |                    |   bob_results   |\n",
    "|                   |     alice_bases    |   alice_bases   |\n",
    "|     bob_bases     |      bob_bases     |                 |\n",
    "|     alice_key     |                    |     bob_key     |\n",
    "|     bob_sample    |     bob_sample     |    bob_sample   |\n",
    "|    alice_sample   |    alice_sample    |   alice_sample  |\n",
    "|     shared_key    |                    |    shared_key   |"
   ]
  },
  {
   "cell_type": "code",
   "execution_count": 25,
   "metadata": {},
   "outputs": [
    {
     "name": "stdout",
     "output_type": "stream",
     "text": [
      "[1, 1, 0, 1, 0, 0, 1, 0, 1, 1, 1, 0, 1, 1, 1, 0, 1, 0, 0, 1, 0, 0, 1, 1, 0, 0, 0, 1, 1, 0, 1, 0, 0]\n",
      "[1, 1, 0, 1, 0, 0, 1, 0, 1, 1, 1, 0, 1, 1, 1, 0, 1, 0, 0, 1, 0, 0, 1, 1, 0, 0, 0, 1, 1, 0, 1, 0, 0]\n",
      "key length = 33\n"
     ]
    }
   ],
   "source": [
    "print(bob_key)\n",
    "print(alice_key)\n",
    "print(\"key length = %i\" % len(alice_key))"
   ]
  },
  {
   "cell_type": "markdown",
   "metadata": {},
   "source": [
    "## 4. Qiskit Example: *With* Interception\n",
    "\n",
    "Let’s now see how Alice and Bob can tell if Eve has been trying to listen in on their quantum message. We repeat the same steps as without interference, but before Bob receives his qubits, Eve will try and extract some information from them. Let's set a different seed so we get a specific set of reproducible 'random' results:"
   ]
  },
  {
   "cell_type": "code",
   "execution_count": 26,
   "metadata": {},
   "outputs": [],
   "source": [
    "np.random.seed(seed=3)"
   ]
  },
  {
   "cell_type": "markdown",
   "metadata": {},
   "source": [
    "### 4.1 Step 1:\n",
    "\n",
    "Alice generates her set of random bits:"
   ]
  },
  {
   "cell_type": "code",
   "execution_count": 27,
   "metadata": {},
   "outputs": [
    {
     "name": "stdout",
     "output_type": "stream",
     "text": [
      "[0 0 1 1 0 0 0 1 1 1 0 1 1 1 0 1 1 0 0 0 0 1 1 0 0 0 1 0 0 0 0 1 0 1 1 0 1\n",
      " 0 0 1 1 0 0 1 0 1 0 1 1 1 1 0 1 0 0 1 1 1 0 0 0 1 0 0 0 1 0 0 1 1 0 0 1 1\n",
      " 1 0 1 1 1 1 1 1 0 1 0 0 1 1 0 1 0 0 0 0 0 1 1 0 1 1]\n"
     ]
    }
   ],
   "source": [
    "np.random.seed(seed=3)\n",
    "## Step 1\n",
    "alice_bits = randint(2, size=n)\n",
    "print(alice_bits)"
   ]
  },
  {
   "cell_type": "markdown",
   "metadata": {},
   "source": [
    "### 4.2 Step 2:\n",
    "\n",
    "Alice encodes these in the $Z$ and $X$-bases at random, and sends these to Bob through Eve's quantum channel:"
   ]
  },
  {
   "cell_type": "code",
   "execution_count": 28,
   "metadata": {},
   "outputs": [
    {
     "name": "stdout",
     "output_type": "stream",
     "text": [
      "[1 0 0 1 1 0 1 0 0 0 0 0 0 0 0 0 1 0 0 0 0 1 1 1 1 0 0 1 1 0 0 1 1 1 1 0 0\n",
      " 1 1 0 0 0 0 0 0 0 0 1 1 0 0 0 1 0 1 1 1 0 0 1 0 1 0 1 1 0 0 1 0 0 1 1 1 1\n",
      " 1 0 0 0 0 0 1 1 1 0 0 0 0 0 0 1 0 1 0 0 0 1 0 1 1 1]\n"
     ]
    }
   ],
   "source": [
    "np.random.seed(seed=3)\n",
    "## Step 1\n",
    "alice_bits = randint(2, size=n)\n",
    "## Step 2\n",
    "alice_bases = randint(2, size=n)\n",
    "message = encode_message(alice_bits, alice_bases)\n",
    "print(alice_bases)"
   ]
  },
  {
   "cell_type": "markdown",
   "metadata": {},
   "source": [
    "In this case, the first qubit in Alice's message is in the state $|+\\rangle$:"
   ]
  },
  {
   "cell_type": "code",
   "execution_count": 29,
   "metadata": {},
   "outputs": [
    {
     "data": {
      "text/html": [
       "<pre style=\"word-wrap: normal;white-space: pre;background: #fff0;line-height: 1.1;font-family: &quot;Courier New&quot;,Courier,monospace\">     ┌───┐ ░ \n",
       "q_0: ┤ H ├─░─\n",
       "     └───┘ ░ \n",
       "c: 1/════════\n",
       "             </pre>"
      ],
      "text/plain": [
       "     ┌───┐ ░ \n",
       "q_0: ┤ H ├─░─\n",
       "     └───┘ ░ \n",
       "c: 1/════════\n",
       "             "
      ]
     },
     "execution_count": 29,
     "metadata": {},
     "output_type": "execute_result"
    }
   ],
   "source": [
    "message[0].draw()"
   ]
  },
  {
   "cell_type": "markdown",
   "metadata": {},
   "source": [
    "### Interception!\n",
    "\n",
    "Oh no! Eve intercepts the message as it passes through her channel. She tries to measure the qubits in a random selection of bases, in the same way Bob will later."
   ]
  },
  {
   "cell_type": "code",
   "execution_count": 30,
   "metadata": {
    "scrolled": true
   },
   "outputs": [
    {
     "name": "stdout",
     "output_type": "stream",
     "text": [
      "[1, 0, 0, 0, 0, 0, 0, 1, 1, 1, 0, 1, 1, 1, 0, 1, 0, 0, 0, 0, 0, 1, 1, 0, 0, 0, 1, 0, 1, 0, 0, 1, 1, 1, 1, 0, 0, 0, 0, 1, 0, 0, 1, 1, 0, 0, 1, 0, 1, 1, 1, 1, 1, 1, 0, 1, 0, 1, 0, 0, 0, 0, 0, 1, 0, 1, 0, 0, 0, 1, 1, 0, 1, 1, 1, 1, 1, 0, 1, 0, 1, 0, 0, 0, 0, 0, 1, 1, 0, 0, 0, 0, 1, 0, 0, 0, 1, 1, 1, 1]\n"
     ]
    }
   ],
   "source": [
    "np.random.seed(seed=3)\n",
    "## Step 1\n",
    "alice_bits = randint(2, size=n)\n",
    "## Step 2\n",
    "alice_bases = randint(2, size=n)\n",
    "message = encode_message(alice_bits, alice_bases)\n",
    "## Interception!!\n",
    "eve_bases = randint(2, size=n)\n",
    "intercepted_message = measure_message(message, eve_bases)\n",
    "print(intercepted_message)"
   ]
  },
  {
   "cell_type": "markdown",
   "metadata": {},
   "source": [
    "We can see the case of qubit 0 below; Eve's random choice of basis is not the same as Alice's, and this will change the qubit state from $|+\\rangle$, to a random state in the $Z$-basis, with 50% probability of $|0\\rangle$ or $|1\\rangle$:"
   ]
  },
  {
   "cell_type": "code",
   "execution_count": 31,
   "metadata": {},
   "outputs": [
    {
     "data": {
      "image/png": "[encoded data removed]",
      "text/plain": [
       "<Figure size 253.926x144.48 with 1 Axes>"
      ]
     },
     "execution_count": 31,
     "metadata": {},
     "output_type": "execute_result"
    }
   ],
   "source": [
    "message[0].draw('mpl')"
   ]
  },
  {
   "cell_type": "markdown",
   "metadata": {},
   "source": [
    "### 4.3 Step 3:\n",
    "\n",
    "Eve then passes on the qubits to Bob, who measures them at random. In this case, Bob chose (by chance) to measure in the same basis Alice prepared the qubit in. Without interception, Bob would be guaranteed to measure `0`, but because Eve tried to read the message he now has a 50% chance of measuring `1` instead."
   ]
  },
  {
   "cell_type": "code",
   "execution_count": 32,
   "metadata": {
    "scrolled": true
   },
   "outputs": [
    {
     "data": {
      "image/png": "[encoded data removed]",
      "text/plain": [
       "<Figure size 374.326x144.48 with 1 Axes>"
      ]
     },
     "execution_count": 32,
     "metadata": {},
     "output_type": "execute_result"
    }
   ],
   "source": [
    "np.random.seed(seed=3)\n",
    "## Step 1\n",
    "alice_bits = randint(2, size=n)\n",
    "## Step 2\n",
    "alice_bases = randint(2, size=n)\n",
    "message = encode_message(alice_bits, alice_bases)\n",
    "## Interception!!\n",
    "eve_bases = randint(2, size=n)\n",
    "intercepted_message = measure_message(message, eve_bases)\n",
    "## Step 3\n",
    "bob_bases = randint(2, size=n)\n",
    "bob_results = measure_message(message, bob_bases)\n",
    "message[0].draw('mpl')"
   ]
  },
  {
   "cell_type": "markdown",
   "metadata": {},
   "source": [
    "### 4.4 Step 4:\n",
    "\n",
    "Bob and Alice reveal their basis choices, and discard the useless bits:"
   ]
  },
  {
   "cell_type": "code",
   "execution_count": 33,
   "metadata": {},
   "outputs": [],
   "source": [
    "np.random.seed(seed=3)\n",
    "## Step 1\n",
    "alice_bits = randint(2, size=n)\n",
    "## Step 2\n",
    "alice_bases = randint(2, size=n)\n",
    "message = encode_message(alice_bits, alice_bases)\n",
    "## Interception!!\n",
    "eve_bases = randint(2, size=n)\n",
    "intercepted_message = measure_message(message, eve_bases)\n",
    "## Step 3\n",
    "bob_bases = randint(2, size=n)\n",
    "bob_results = measure_message(message, bob_bases)\n",
    "## Step 4\n",
    "bob_key = remove_garbage(alice_bases, bob_bases, bob_results)\n",
    "alice_key = remove_garbage(alice_bases, bob_bases, alice_bits)"
   ]
  },
  {
   "cell_type": "markdown",
   "metadata": {},
   "source": [
    "### 4.5 Step 5:\n",
    "\n",
    "Bob and Alice compare the same random selection of their keys to see if the qubits were intercepted:"
   ]
  },
  {
   "cell_type": "code",
   "execution_count": 34,
   "metadata": {},
   "outputs": [
    {
     "name": "stdout",
     "output_type": "stream",
     "text": [
      "  bob_sample = [1, 1, 0, 0, 1, 1, 0, 0, 1, 0, 0, 1, 0, 0, 1]\n",
      "alice_sample = [1, 1, 0, 0, 1, 0, 0, 0, 0, 0, 0, 1, 0, 0, 0]\n"
     ]
    }
   ],
   "source": [
    "np.random.seed(seed=3)\n",
    "## Step 1\n",
    "alice_bits = randint(2, size=n)\n",
    "## Step 2\n",
    "alice_bases = randint(2, size=n)\n",
    "message = encode_message(alice_bits, alice_bases)\n",
    "## Interception!!\n",
    "eve_bases = randint(2, size=n)\n",
    "intercepted_message = measure_message(message, eve_bases)\n",
    "## Step 3\n",
    "bob_bases = randint(2, size=n)\n",
    "bob_results = measure_message(message, bob_bases)\n",
    "## Step 4\n",
    "bob_key = remove_garbage(alice_bases, bob_bases, bob_results)\n",
    "alice_key = remove_garbage(alice_bases, bob_bases, alice_bits)\n",
    "## Step 5\n",
    "sample_size = 15\n",
    "bit_selection = randint(n, size=sample_size)\n",
    "bob_sample = sample_bits(bob_key, bit_selection)\n",
    "print(\"  bob_sample = \" + str(bob_sample))\n",
    "alice_sample = sample_bits(alice_key, bit_selection)\n",
    "print(\"alice_sample = \"+ str(alice_sample))"
   ]
  },
  {
   "cell_type": "code",
   "execution_count": 35,
   "metadata": {},
   "outputs": [
    {
     "data": {
      "text/plain": [
       "False"
      ]
     },
     "execution_count": 35,
     "metadata": {},
     "output_type": "execute_result"
    }
   ],
   "source": [
    "bob_sample == alice_sample"
   ]
  },
  {
   "cell_type": "markdown",
   "metadata": {},
   "source": [
    "Oh no! Bob's key and Alice's key do not match. We know this is because Eve tried to read the message between steps 2 and 3, and changed the qubits' states. For all Alice and Bob know, this could be due to noise in the channel, but either way they must throw away all their results and try again- Eve's interception attempt has failed.\n",
    "\n",
    "## 5. Risk Analysis\n",
    "\n",
    "For this type of interception, in which Eve measures all the qubits, there is a small chance that Bob and Alice's samples could match, and Alice sends her vulnerable message through Eve's channel. Let's calculate that chance and see how risky quantum key distribution is.\n",
    "\n",
    "- For Alice and Bob to use a qubit's result, they must both have chosen the same basis. If Eve chooses this basis too, she will successfully intercept this bit without introducing any error. There is a 50% chance of this happening.\n",
    "- If Eve chooses the *wrong* basis, i.e. a different basis to Alice and Bob, there is still a 50% chance Bob will measure the value Alice was trying to send. In this case, the interception also goes undetected.\n",
    "- But if Eve chooses the *wrong* basis, i.e. a different basis to Alice and Bob, there is a 50% chance Bob will not measure the value Alice was trying to send, and this *will* introduce an error into their keys.\n",
    "\n",
    "![risk probability tree](images/qkd_risk.svg)\n",
    "\n",
    "If Alice and Bob compare 1 bit from their keys, the probability the bits will match is $0.75$, and if so they will not notice Eve's interception. If they measure 2 bits, there is a $0.75^2 = 0.5625$ chance of the interception not being noticed. We can see that the probability of Eve going undetected can be calculated from the number of bits ($x$) Alice and Bob chose to compare:\n",
    "\n",
    "$$ P(\\text{undetected}) = 0.75^x $$\n",
    "\n",
    "If we decide to compare 15 bits as we did above, there is a 1.3% chance Eve will be undetected. If this is too risky for us, we could compare 50 bits instead, and have a 0.00006% chance of being spied upon unknowingly.\n",
    "\n",
    "You can retry the protocol again by running the cell below. Try changing `sample_size` to something low and see how easy it is for Eve to intercept Alice and Bob's keys."
   ]
  },
  {
   "cell_type": "code",
   "execution_count": 36,
   "metadata": {},
   "outputs": [
    {
     "name": "stdout",
     "output_type": "stream",
     "text": [
      "Eve's interference was detected.\n"
     ]
    }
   ],
   "source": [
    "n = 100\n",
    "# Step 1\n",
    "alice_bits = randint(2, size=n)\n",
    "alice_bases = randint(2, size=n)\n",
    "# Step 2\n",
    "message = encode_message(alice_bits, alice_bases)\n",
    "# Interception!\n",
    "eve_bases = randint(2, size=n)\n",
    "intercepted_message = measure_message(message, eve_bases)\n",
    "# Step 3\n",
    "bob_bases = randint(2, size=n)\n",
    "bob_results = measure_message(message, bob_bases)\n",
    "# Step 4\n",
    "bob_key = remove_garbage(alice_bases, bob_bases, bob_results)\n",
    "alice_key = remove_garbage(alice_bases, bob_bases, alice_bits)\n",
    "# Step 5\n",
    "sample_size = 15 # Change this to something lower and see if \n",
    "                 # Eve can intercept the message without Alice\n",
    "                 # and Bob finding out\n",
    "bit_selection = randint(n, size=sample_size)\n",
    "bob_sample = sample_bits(bob_key, bit_selection)\n",
    "alice_sample = sample_bits(alice_key, bit_selection)\n",
    "\n",
    "if bob_sample != alice_sample:\n",
    "    print(\"Eve's interference was detected.\")\n",
    "else:\n",
    "    print(\"Eve went undetected!\")"
   ]
  },
  {
   "cell_type": "code",
   "execution_count": 37,
   "metadata": {},
   "outputs": [
    {
     "data": {
      "text/plain": [
       "{'qiskit-terra': '0.17.4', 'qiskit-aer': '0.8.2', 'qiskit-ignis': '0.6.0', 'qiskit-ibmq-provider': '0.13.1', 'qiskit-aqua': '0.9.1', 'qiskit': '0.26.2', 'qiskit-nature': None, 'qiskit-finance': None, 'qiskit-optimization': None, 'qiskit-machine-learning': None}"
      ]
     },
     "execution_count": 37,
     "metadata": {},
     "output_type": "execute_result"
    }
   ],
   "source": [
    "import qiskit\n",
    "qiskit.__qiskit_version__"
   ]
  }
 ],
 "metadata": {
  "kernelspec": {
   "display_name": "Python 3",
   "language": "python",
   "name": "python3"
  },
  "language_info": {
   "codemirror_mode": {
    "name": "ipython",
    "version": 3
   },
   "file_extension": ".py",
   "mimetype": "text/x-python",
   "name": "python",
   "nbconvert_exporter": "python",
   "pygments_lexer": "ipython3",
   "version": "3.9.5"
  }
 },
 "nbformat": 4,
 "nbformat_minor": 4
}
