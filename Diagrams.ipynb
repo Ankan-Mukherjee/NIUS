{
 "cells": [
  {
   "cell_type": "markdown",
   "id": "d32d2cbd",
   "metadata": {},
   "source": [
    "## DIAGRAMS"
   ]
  },
  {
   "cell_type": "code",
   "execution_count": 1,
   "id": "93d35766",
   "metadata": {},
   "outputs": [],
   "source": [
    "import math\n",
    "import qiskit\n",
    "import matplotlib as plt\n",
    "from matplotlib import *\n",
    "from qiskit import *\n",
    "from qiskit.visualization import plot_histogram\n",
    "import numpy as np\n",
    "from scipy.stats import unitary_group"
   ]
  },
  {
   "cell_type": "code",
   "execution_count": 2,
   "id": "c9b5cc38",
   "metadata": {},
   "outputs": [],
   "source": [
    "pi=np.pi"
   ]
  },
  {
   "cell_type": "code",
   "execution_count": 3,
   "id": "a2f5a71e",
   "metadata": {},
   "outputs": [],
   "source": [
    "def simulate(qc):\n",
    "    aer_sim = Aer.get_backend('aer_simulator')\n",
    "    transpiled_qc = transpile(qc, aer_sim)\n",
    "    qobj = assemble(transpiled_qc)\n",
    "    results = aer_sim.run(qobj).result()\n",
    "    counts = results.get_counts()\n",
    "    return counts"
   ]
  },
  {
   "cell_type": "markdown",
   "id": "e064359a",
   "metadata": {},
   "source": [
    "## 4.  FINAL CIRCUIT"
   ]
  },
  {
   "cell_type": "code",
   "execution_count": 27,
   "id": "978779f5",
   "metadata": {},
   "outputs": [
    {
     "data": {
      "image/png": "[encoded data removed]",
      "text/plain": [
       "<Figure size 387.597x264.88 with 1 Axes>"
      ]
     },
     "execution_count": 27,
     "metadata": {},
     "output_type": "execute_result"
    }
   ],
   "source": [
    "qc = QuantumCircuit(4)\n",
    "qc.h([0,1,2,3])\n",
    "qc.x([0,1,2,3])\n",
    "qc.mct([0,1,2],3)\n",
    "qc.x([0,1,2,3])\n",
    "qc.h([0,1,2,3])\n",
    "qc.draw('mpl')"
   ]
  },
  {
   "cell_type": "code",
   "execution_count": null,
   "id": "040d67ad",
   "metadata": {},
   "outputs": [],
   "source": [
    "def oracle(qc, nonce, register):\n",
    "    for i in range(8):\n",
    "        qc.cx(nonce[i],register[i])\n",
    "    qc.append(LFSR1_Quantum()[1], register)\n",
    "    qc.append(LFSR2_Quantum()[1], register)\n",
    "    for i in range(5):\n",
    "        qc.x(register[i])\n",
    "    qc.mct(register[0:5], output)\n",
    "    for i in range(5):\n",
    "        qc.x(register[i])\n",
    "    qc.append(LFSRinv2_Quantum()[1], register)\n",
    "    qc.append(LFSRinv1_Quantum()[1], register)\n",
    "    for i in range(8):\n",
    "        qc.cx(nonce[i],register[i])"
   ]
  },
  {
   "cell_type": "code",
   "execution_count": null,
   "id": "684391f4",
   "metadata": {},
   "outputs": [],
   "source": [
    "nonce = QuantumRegister(8, name='n')\n",
    "register = QuantumRegister(8, name='r')\n",
    "qc = QuantumCircuit(nonce,register)\n"
   ]
  }
 ],
 "metadata": {
  "kernelspec": {
   "display_name": "Python 3",
   "language": "python",
   "name": "python3"
  },
  "language_info": {
   "codemirror_mode": {
    "name": "ipython",
    "version": 3
   },
   "file_extension": ".py",
   "mimetype": "text/x-python",
   "name": "python",
   "nbconvert_exporter": "python",
   "pygments_lexer": "ipython3",
   "version": "3.9.5"
  }
 },
 "nbformat": 4,
 "nbformat_minor": 5
}
